{
  "nbformat": 4,
  "nbformat_minor": 0,
  "metadata": {
    "colab": {
      "name": "미로.ipynb",
      "provenance": [],
      "collapsed_sections": [],
      "authorship_tag": "ABX9TyNc18utCVDsZ4RTDHeZpW45",
      "include_colab_link": true
    },
    "kernelspec": {
      "name": "python3",
      "display_name": "Python 3"
    }
  },
  "cells": [
    {
      "cell_type": "markdown",
      "metadata": {
        "id": "view-in-github",
        "colab_type": "text"
      },
      "source": [
        "<a href=\"https://colab.research.google.com/github/simprac/hello-world/blob/master/%EB%AF%B8%EB%A1%9C.ipynb\" target=\"_parent\"><img src=\"https://colab.research.google.com/assets/colab-badge.svg\" alt=\"Open In Colab\"/></a>"
      ]
    },
    {
      "cell_type": "code",
      "metadata": {
        "id": "aXaWkycJFW7q"
      },
      "source": [
        "import numpy as np\n",
        "import matplotlib.pyplot as plt\n",
        "from matplotlib import animation\n",
        "from IPython.display import HTML\n",
        "%matplotlib inline"
      ],
      "execution_count": 34,
      "outputs": []
    },
    {
      "cell_type": "code",
      "metadata": {
        "id": "9t48M7eHOlNW",
        "outputId": "6ca94843-d67a-44f9-ee4b-3150cb79f383",
        "colab": {
          "base_uri": "https://localhost:8080/",
          "height": 303
        }
      },
      "source": [
        "fig = plt.figure(figsize=(5,5))\n",
        "ax = plt.gca()\n",
        "plt.plot([0.5,0.5], [-0.5,0.5], color='red', linewidth=2)\n",
        "plt.plot([0.5,1.5], [1.5,1.5], color='red', linewidth=2)\n",
        "plt.plot([1.5,1.5], [1.5,0.5], color='red', linewidth=2)\n",
        "plt.plot([1.5,2.5], [0.5,0.5], color='red', linewidth=2)\n",
        "\n",
        "n = 0\n",
        "for y in range(3):\n",
        "    for x in range(3):\n",
        "        plt.text(x, 2 - y, f\"S{n}\", size=14, ha='center')\n",
        "        n += 1\n",
        "plt.text(0, 1.8, 'START', ha='center')\n",
        "plt.text(2, -0.2, 'GOAL', ha='center')\n",
        "\n",
        "ax.set_xlim(-0.5,2.5)\n",
        "ax.set_ylim(-0.5,2.5)\n",
        "\n",
        "plt.tick_params(axis='both', which='both', bottom=False, top=False, labelbottom=False, right=False, left=False, labelleft=False)\n",
        "line, = ax.plot([0.5], [2.5], marker=\"o\", color='g', markersize=60)\n",
        "\n",
        "n = 0.0\n",
        "\n",
        "theta_0 = np.array([\n",
        "    [n, 1, 1, n],\n",
        "    [n, 1, n, 1],\n",
        "    [n, n, 1, 1],\n",
        "    [1, 1, 1, n],\n",
        "    [n, n, 1, 1],\n",
        "    [1, n, n, n],\n",
        "    [1, n, n, n],\n",
        "    [1, 1, n, n],\n",
        "])"
      ],
      "execution_count": 35,
      "outputs": [
        {
          "output_type": "display_data",
          "data": {
            "image/png": "[encoded data removed]",
            "text/plain": [
              "<Figure size 360x360 with 1 Axes>"
            ]
          },
          "metadata": {
            "tags": []
          }
        }
      ]
    },
    {
      "cell_type": "code",
      "metadata": {
        "id": "zT7mqXymFEAB"
      },
      "source": [
        "def simple_convert_theta_to_pi(theta):\n",
        "    pi = np.zeros_like(theta)\n",
        "    for i in range(pi.shape[0]):\n",
        "        pi[i] = theta[i] / np.sum(theta[i])\n",
        "    return pi\n",
        "\n",
        "def get_next_state(pi, s):\n",
        "    offset = [-3, +1, +3, -1]\n",
        "    return s + np.random.choice(offset, p=pi[s])\n",
        "\n",
        "def run_maze(pi):\n",
        "    history = [0]\n",
        "    while (history[-1] != 8):\n",
        "        history.append(get_next_state(pi, history[-1]))\n",
        "    return history\n",
        "\n",
        "def init():\n",
        "    line.set_data([], [])\n",
        "    return (line,)\n",
        "\n",
        "def animate(i):\n",
        "    state = state_history[i]\n",
        "    x = state % 3\n",
        "    y = 2 - state // 3\n",
        "    line.set_data(x, y)\n",
        "    return (line,)\n",
        "\n",
        "pi_0 = simple_convert_theta_to_pi(theta_0)\n",
        "state_history = run_maze(pi_0)\n",
        "anim = animation.FuncAnimation(fig, animate, init_func=init, frames=len(state_history), interval=200, repeat=False)\n",
        "HTML(anim.to_jshtml())"
      ],
      "execution_count": null,
      "outputs": []
    }
  ]
}